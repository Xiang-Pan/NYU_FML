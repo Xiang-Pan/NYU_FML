{
 "cells": [
  {
   "cell_type": "code",
   "execution_count": null,
   "id": "b3dcaa56",
   "metadata": {
    "vscode": {
     "languageId": "wolfram language"
    }
   },
   "outputs": [],
   "source": [
    "P[x:] = 1"
   ]
  },
  {
   "cell_type": "code",
   "execution_count": null,
   "id": "76f02e11",
   "metadata": {},
   "outputs": [],
   "source": []
  }
 ],
 "metadata": {
  "kernelspec": {
   "display_name": "Wolfram Language 13",
   "language": "Wolfram Language",
   "name": "wolframlanguage13"
  },
  "language_info": {
   "name": "scheme"
  }
 },
 "nbformat": 4,
 "nbformat_minor": 5
}
